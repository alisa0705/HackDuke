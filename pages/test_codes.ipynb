{
 "cells": [
  {
   "cell_type": "code",
   "execution_count": 1,
   "metadata": {},
   "outputs": [],
   "source": [
    "import mysql.connector\n",
    "from mysql.connector import Error\n",
    "import os\n",
    "import pandas as pd\n",
    "from sqlalchemy import create_engine"
   ]
  },
  {
   "cell_type": "code",
   "execution_count": 2,
   "metadata": {},
   "outputs": [],
   "source": [
    "def create_db_connection(host_name, user_name, user_password, db_name):\n",
    "    connection = None\n",
    "    try:\n",
    "        connection = mysql.connector.connect(\n",
    "            host=host_name,\n",
    "            user=user_name,\n",
    "            passwd=user_password,\n",
    "            database=db_name\n",
    "        )\n",
    "        print(\"MySQL Database connection successful\")\n",
    "    except Error as err:\n",
    "        print(f\"Error: '{err}'\")\n",
    "\n",
    "    return connection"
   ]
  },
  {
   "cell_type": "code",
   "execution_count": 3,
   "metadata": {},
   "outputs": [
    {
     "name": "stdout",
     "output_type": "stream",
     "text": [
      "MySQL Database connection successful\n"
     ]
    }
   ],
   "source": [
    "connection = create_db_connection(os.getenv(\"AWS_HOST\"), os.getenv(\"AWS_USER\"), os.getenv(\"AWS_PASSWORD\"), 'cup_adventure')"
   ]
  },
  {
   "cell_type": "code",
   "execution_count": 4,
   "metadata": {},
   "outputs": [
    {
     "name": "stdout",
     "output_type": "stream",
     "text": [
      "[('cups_db',), ('customers_db',), ('transactions_log',), ('vendors_db',)]\n"
     ]
    }
   ],
   "source": [
    "# call all table names from cup_adventure database\n",
    "cursor = connection.cursor()\n",
    "cursor.execute(\"SHOW TABLES\")\n",
    "tables = cursor.fetchall()\n",
    "print(tables)\n"
   ]
  },
  {
   "cell_type": "code",
   "execution_count": 5,
   "metadata": {},
   "outputs": [],
   "source": [
    "def create_database(connection, query):\n",
    "    cursor = connection.cursor()\n",
    "    try:\n",
    "        cursor.execute(query)\n",
    "        print(\"Database created successfully\")\n",
    "    except Error as err:\n",
    "        print(f\"Error: '{err}'\")"
   ]
  },
  {
   "cell_type": "code",
   "execution_count": 23,
   "metadata": {},
   "outputs": [],
   "source": [
    "def updateTables(dbname, username, passwd, hostname, portnum, data):\n",
    "    engine = create_engine(\n",
    "        f\"mysql://{username}:{passwd}@{hostname}:{portnum}/{dbname}\")\n",
    "    connection = engine.connect()\n",
    "    df = pd.read_excel(\n",
    "        f'../raw_data/{data}.xlsx'\n",
    "    )\n",
    "    df.to_sql(\n",
    "        data, connection, if_exists=\"replace\", index=False\n",
    "    )"
   ]
  },
  {
   "cell_type": "code",
   "execution_count": 25,
   "metadata": {},
   "outputs": [],
   "source": [
    "updateTables(\"cup_adventure\", os.getenv(\"AWS_USER\"), os.getenv(\"AWS_PASSWORD\"), os.getenv(\"AWS_HOST\"), os.getenv(\"AWS_PORT\"), \"customers_db\")\n",
    "updateTables(\"cup_adventure\", os.getenv(\"AWS_USER\"), os.getenv(\"AWS_PASSWORD\"), os.getenv(\"AWS_HOST\"), os.getenv(\"AWS_PORT\"), \"cups_db\")\n",
    "updateTables(\"cup_adventure\", os.getenv(\"AWS_USER\"), os.getenv(\"AWS_PASSWORD\"), os.getenv(\"AWS_HOST\"), os.getenv(\"AWS_PORT\"), \"transactions_log\")\n",
    "updateTables(\"cup_adventure\", os.getenv(\"AWS_USER\"), os.getenv(\"AWS_PASSWORD\"), os.getenv(\"AWS_HOST\"), os.getenv(\"AWS_PORT\"), \"vendors_db\")"
   ]
  },
  {
   "cell_type": "code",
   "execution_count": 6,
   "metadata": {},
   "outputs": [],
   "source": [
    "def read_query(connection, query):\n",
    "    cursor = connection.cursor()\n",
    "    result = None\n",
    "    try:\n",
    "        cursor.execute(query)\n",
    "        result = cursor.fetchall()\n",
    "        return result\n",
    "    except Error as err:\n",
    "        print(f\"Error: '{err}'\")"
   ]
  },
  {
   "cell_type": "code",
   "execution_count": 7,
   "metadata": {},
   "outputs": [
    {
     "name": "stdout",
     "output_type": "stream",
     "text": [
      "(989965, 'BC10', 'No', 'Borrow')\n"
     ]
    }
   ],
   "source": [
    "q1 = \"\"\"\n",
    "SELECT *\n",
    "FROM cups_db;\n",
    "\"\"\"\n",
    "\n",
    "results = read_query(connection, q1)\n",
    "\n",
    "for result in results:\n",
    "  print(result)"
   ]
  },
  {
   "cell_type": "code",
   "execution_count": null,
   "metadata": {},
   "outputs": [],
   "source": [
    "def execute_query(connection, query):\n",
    "    cursor = connection.cursor()\n",
    "    try:\n",
    "        cursor.execute(query)\n",
    "        connection.commit()\n",
    "        print(\"Query successful\")\n",
    "    except Error as err:\n",
    "        print(f\"Error: '{err}'\")"
   ]
  }
 ],
 "metadata": {
  "kernelspec": {
   "display_name": "Python 3",
   "language": "python",
   "name": "python3"
  },
  "language_info": {
   "codemirror_mode": {
    "name": "ipython",
    "version": 3
   },
   "file_extension": ".py",
   "mimetype": "text/x-python",
   "name": "python",
   "nbconvert_exporter": "python",
   "pygments_lexer": "ipython3",
   "version": "3.10.4"
  },
  "orig_nbformat": 4,
  "vscode": {
   "interpreter": {
    "hash": "3ad933181bd8a04b432d3370b9dc3b0662ad032c4dfaa4e4f1596c548f763858"
   }
  }
 },
 "nbformat": 4,
 "nbformat_minor": 2
}
